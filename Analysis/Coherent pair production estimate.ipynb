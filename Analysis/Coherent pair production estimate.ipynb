{
 "cells": [
  {
   "cell_type": "markdown",
   "id": "13c73148",
   "metadata": {},
   "source": [
    "# Estimation of coherent pair production"
   ]
  },
  {
   "cell_type": "markdown",
   "id": "0092e100",
   "metadata": {},
   "source": [
    "All the input parameters + important constants"
   ]
  },
  {
   "cell_type": "code",
   "execution_count": 158,
   "id": "471ef5f5",
   "metadata": {},
   "outputs": [],
   "source": [
    "import read as rd\n",
    "import numpy as np\n",
    "#constants\n",
    "\n",
    "c= 3e+8\n",
    "e = 1.6e-19\n",
    "alpha = 1/137\n",
    "m_e = 9.11*1e-31\n",
    "h = 6.63e-34\n",
    "h_bar = h/(2*np.pi)\n",
    "GeV = 1e+9*e\n",
    "\n",
    "#input parameters\n",
    "r_e = 2.817940e-15\n",
    "mu_0 = 4*np.pi * 1e-7\n",
    "\n",
    "E = 125 #125 #energy of each beam in GeV\n",
    "\n",
    "Nb = 2e+10 #number of particles per bunch\n",
    "\n",
    "#beam sizes in meter\n",
    "sigma_x = 516e-9 #516e-9\n",
    "sigma_y = 7.7e-9 #7.7e-9 \n",
    "sigma_z = 300e-6\n",
    "\n"
   ]
  },
  {
   "cell_type": "markdown",
   "id": "dfbd659e",
   "metadata": {},
   "source": [
    "Find gamma and beamstrahlung parameter"
   ]
  },
  {
   "cell_type": "code",
   "execution_count": 166,
   "id": "814c7951",
   "metadata": {},
   "outputs": [
    {
     "name": "stdout",
     "output_type": "stream",
     "text": [
      "gamma: 244618.3953033268\n",
      "average upsilon is 0.028230474976163298\n"
     ]
    }
   ],
   "source": [
    "gamma = rd.find_gamma_electron(E)\n",
    "upsilon = rd.find_beamstrahlung_average(Nb, gamma, sigma_x, sigma_y, sigma_z)\n",
    "print('gamma:', gamma)\n",
    "print('average upsilon is', upsilon)"
   ]
  },
  {
   "cell_type": "markdown",
   "id": "91482a24",
   "metadata": {},
   "source": [
    "Find the magnetic field experienced by each bunch"
   ]
  },
  {
   "cell_type": "code",
   "execution_count": 170,
   "id": "b99c42a4",
   "metadata": {},
   "outputs": [
    {
     "name": "stdout",
     "output_type": "stream",
     "text": [
      "B: 1240.31007751938 Tesla\n",
      "B/B_c: 2.8035264102912384e-07\n"
     ]
    }
   ],
   "source": [
    "def find_magnetic_field(Nb, sigma_z, r):\n",
    "    I = e*Nb*c/sigma_z\n",
    "    B_phi = mu_0 * I / (2*np.pi*r) #amphere's law\n",
    "    return B_phi\n",
    "\n",
    "B = find_magnetic_field(Nb, sigma_z, r=sigma_x)\n",
    "B_c = m_e*m_e*c*c /(e*h_bar) #critical B field\n",
    "print('B:',B, 'Tesla')\n",
    "print('B/B_c:', B/B_c)"
   ]
  },
  {
   "cell_type": "code",
   "execution_count": 169,
   "id": "971ad40f",
   "metadata": {},
   "outputs": [
    {
     "name": "stdout",
     "output_type": "stream",
     "text": [
      "upsilon/gamma: 1.1540618170255556e-07\n"
     ]
    }
   ],
   "source": [
    "upsilon/gamma #Cross check\n",
    "print('upsilon/gamma:', upsilon/gamma )"
   ]
  },
  {
   "cell_type": "markdown",
   "id": "72d7c26f",
   "metadata": {},
   "source": [
    "Finding k "
   ]
  },
  {
   "cell_type": "code",
   "execution_count": 172,
   "id": "9e1c8156",
   "metadata": {},
   "outputs": [
    {
     "name": "stdout",
     "output_type": "stream",
     "text": [
      "k: 0.000547096262527867\n"
     ]
    }
   ],
   "source": [
    "def find_k(E_photon, B, B_c):\n",
    "    return E_photon/(m_e*c*c) * B/B_c\n",
    "\n",
    "E_photon = 1*GeV #converted to J. Taken from the plot. An estimate for now\n",
    "k = find_k(E_photon, B, B_c)\n",
    "print('k:',k)"
   ]
  },
  {
   "cell_type": "markdown",
   "id": "d0ddc1dc",
   "metadata": {},
   "source": [
    "Finding T(k). Use approx since depending on $k$"
   ]
  },
  {
   "cell_type": "code",
   "execution_count": 173,
   "id": "dc780600",
   "metadata": {},
   "outputs": [
    {
     "name": "stdout",
     "output_type": "stream",
     "text": [
      "T(k): 0.0\n",
      "prob_per_length: 0.0\n"
     ]
    }
   ],
   "source": [
    "def T(k): \n",
    "    return 0.23*np.exp(-8/(3*k)) #k<<1\n",
    "    #return 0.38*k**(-1/3) #k>>1\n",
    "\n",
    "def prob_photon_per_unit_length(B, B_c, T):\n",
    "    return alpha*alpha/r_e * B/B_c * T\n",
    "\n",
    "T = T(k)\n",
    "print(\"T(k):\", T)\n",
    "prob_per_length = prob_photon_per_unit_length(B, B_c, T)\n",
    "print('prob_per_length:', prob_per_length)"
   ]
  },
  {
   "cell_type": "markdown",
   "id": "d5c6f8f6",
   "metadata": {},
   "source": [
    "The values are so small that the probability of a pair production per unit length is basically zero, which is consistent with the simulation results"
   ]
  },
  {
   "cell_type": "markdown",
   "id": "63945808",
   "metadata": {},
   "source": [
    "Calculating the total number of coherent pairs for $\\Upsilon << 1$. Ignore this for now!"
   ]
  },
  {
   "cell_type": "code",
   "execution_count": 175,
   "id": "f30b8e48",
   "metadata": {},
   "outputs": [
    {
     "name": "stdout",
     "output_type": "stream",
     "text": [
      "3.860948674347845e-13\n",
      "The total number of pairs: -3.7807347014756343\n"
     ]
    }
   ],
   "source": [
    "def G(upsilon):\n",
    "    return 5.2*upsilon**(-2/3)*np.log(upsilon)\n",
    "\n",
    "def n_pairs(upsilon, sigma_z, lambda_c):\n",
    "    constant = 2*np.sqrt(3)/(25*np.pi)\n",
    "    term1 = (alpha*sigma_z*upsilon)/(gamma*lambda_c)\n",
    "    term2 = G(upsilon)\n",
    "    n = constant * term1 * term1 * term2\n",
    "    return n\n",
    "\n",
    "lambda_c = h_bar/(m_e*c)\n",
    "print(lambda_c)\n",
    "n_pairs = n_pairs(upsilon, sigma_z, lambda_c)\n",
    "print('The total number of pairs:',n_pairs)"
   ]
  },
  {
   "cell_type": "code",
   "execution_count": 155,
   "id": "af2af3b5",
   "metadata": {},
   "outputs": [
    {
     "data": {
      "text/plain": [
       "34418"
      ]
     },
     "execution_count": 155,
     "metadata": {},
     "output_type": "execute_result"
    }
   ],
   "source": [
    "x = np.loadtxt('coh1.dat')\n",
    "y = np.loadtxt('coh2.dat')\n",
    "n_pairs_GP = len(x)+len(y)\n",
    "n_pairs_GP"
   ]
  }
 ],
 "metadata": {
  "kernelspec": {
   "display_name": "Python 3 (ipykernel)",
   "language": "python",
   "name": "python3"
  },
  "language_info": {
   "codemirror_mode": {
    "name": "ipython",
    "version": 3
   },
   "file_extension": ".py",
   "mimetype": "text/x-python",
   "name": "python",
   "nbconvert_exporter": "python",
   "pygments_lexer": "ipython3",
   "version": "3.10.9"
  }
 },
 "nbformat": 4,
 "nbformat_minor": 5
}
