{
 "cells": [
  {
   "cell_type": "code",
   "execution_count": 1,
   "id": "724f9b18",
   "metadata": {},
   "outputs": [],
   "source": [
    "import numpy as np"
   ]
  },
  {
   "cell_type": "code",
   "execution_count": 4,
   "id": "b0e53c85",
   "metadata": {},
   "outputs": [],
   "source": [
    "beam1 = np.loadtxt('beam1.dat')"
   ]
  },
  {
   "cell_type": "code",
   "execution_count": null,
   "id": "a2f0580a",
   "metadata": {},
   "outputs": [],
   "source": [
    "np.shape(beam1)"
   ]
  },
  {
   "cell_type": "code",
   "execution_count": null,
   "id": "0f104f45",
   "metadata": {},
   "outputs": [],
   "source": []
  }
 ],
 "metadata": {
  "kernelspec": {
   "display_name": "Python 3 (ipykernel)",
   "language": "python",
   "name": "python3"
  },
  "language_info": {
   "codemirror_mode": {
    "name": "ipython",
    "version": 3
   },
   "file_extension": ".py",
   "mimetype": "text/x-python",
   "name": "python",
   "nbconvert_exporter": "python",
   "pygments_lexer": "ipython3",
   "version": "3.10.9"
  }
 },
 "nbformat": 4,
 "nbformat_minor": 5
}
